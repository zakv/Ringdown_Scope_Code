{
 "cells": [
  {
   "cell_type": "code",
   "execution_count": 94,
   "metadata": {
    "collapsed": false
   },
   "outputs": [],
   "source": [
    "%matplotlib inline\n",
    "#%matplotlib notebook\n",
    "import instrument\n",
    "import numpy as np\n",
    "import time\n",
    "import matplotlib.pyplot as plt\n",
    "import pickle as pickle\n",
    "import os"
   ]
  },
  {
   "cell_type": "code",
   "execution_count": 4,
   "metadata": {
    "collapsed": true
   },
   "outputs": [],
   "source": [
    "#series_list=[]"
   ]
  },
  {
   "cell_type": "code",
   "execution_count": 47,
   "metadata": {
    "collapsed": false
   },
   "outputs": [
    {
     "name": "stdout",
     "output_type": "stream",
     "text": [
      "Connected to Agilent Technologies,DSO1012A,CN50301202,00.04.06 SP05\n",
      "\n",
      "Tau is (2.14 +/- 0.01)us with std 0.07us\n"
     ]
    }
   ],
   "source": [
    "reload(instrument)\n",
    "scope=instrument.AgilentScope(\"/dev/usbtmc0\")\n",
    "tau_mean,tau_uncertainty,series=scope.measure_tau(100)\n",
    "series.position=(2.54,2.00)\n",
    "series_list.append(series)"
   ]
  },
  {
   "cell_type": "code",
   "execution_count": 183,
   "metadata": {
    "collapsed": false
   },
   "outputs": [
    {
     "data": {
      "image/png": "[encoded data removed]",
      "text/plain": [
       "<matplotlib.figure.Figure at 0x7f3aa2bf7d90>"
      ]
     },
     "metadata": {},
     "output_type": "display_data"
    }
   ],
   "source": [
    "x_array=np.array([series.position[0] for series in series_list])\n",
    "tau_array=np.array([series.tau_mean for series in series_list])*1e6\n",
    "tau_uncertainties=np.array([series.tau_uncertainty for series in series_list])*1e6\n",
    "left_lim,right_lim=min(x_array)-0.01,max(x_array)+0.01\n",
    "plt.errorbar(x_array,tau_array,yerr=tau_uncertainties,fmt='o')\n",
    "plt.xlim(left_lim,right_lim)\n",
    "plt.xlabel(r\"x position (mm)\")\n",
    "plt.ylabel(r\"$\\tau$ in $\\mu$s\")\n",
    "plt.title(r\"Lifetime as a function of Mirrror Position\")\n",
    "plt.savefig(\"Ringdown_Data/Mirrors_1_2_Horizontal_Scan_1/plot.png\")"
   ]
  },
  {
   "cell_type": "code",
   "execution_count": 104,
   "metadata": {
    "collapsed": false
   },
   "outputs": [],
   "source": [
    "j=0\n",
    "for series in new_list:\n",
    "    file_name='horizontal_scan_%d_%1.2fmm.pkl' % (j,series.position[0])\n",
    "    file_name=os.path.join('Mirrors_1_2_Horizontal_Scan_1',file_name)\n",
    "    series.file_name=file_name\n",
    "    series.save(overwrite=True)"
   ]
  },
  {
   "cell_type": "code",
   "execution_count": null,
   "metadata": {
    "collapsed": true
   },
   "outputs": [],
   "source": [
    "\n",
    "\n",
    "\n",
    "\n",
    "\n",
    "\n",
    "\n",
    "\n",
    "\n",
    "\n"
   ]
  },
  {
   "cell_type": "code",
   "execution_count": 192,
   "metadata": {
    "collapsed": true
   },
   "outputs": [],
   "source": [
    "#series_list=[]"
   ]
  },
  {
   "cell_type": "code",
   "execution_count": 216,
   "metadata": {
    "collapsed": false
   },
   "outputs": [
    {
     "name": "stdout",
     "output_type": "stream",
     "text": [
      "Connected to Agilent Technologies,DSO1012A,CN50301202,00.04.06 SP05\n",
      "\n",
      "Tau is (2.19 +/- 0.01)us with std 0.06us\n"
     ]
    },
    {
     "data": {
      "image/png": "[encoded data removed]",
      "text/plain": [
       "<matplotlib.figure.Figure at 0x7f3aa29d6cd0>"
      ]
     },
     "metadata": {},
     "output_type": "display_data"
    }
   ],
   "source": [
    "position=(2.30,2.00)\n",
    "\n",
    "reload(instrument)\n",
    "scope=instrument.AgilentScope(\"/dev/usbtmc0\")\n",
    "tau_mean,tau_uncertainty,series=scope.measure_tau(100)\n",
    "series.position=position\n",
    "series_list.append(series)\n",
    "\n",
    "j=0\n",
    "for series in series_list:\n",
    "    file_name='horizontal_scan_%d_%1.2fmm.pkl' % (j,series.position[0])\n",
    "    file_name=os.path.join('Mirrors_1_2_Horizontal_Scan_2',file_name)\n",
    "    series.file_name=file_name\n",
    "    series.save(overwrite=True)\n",
    "\n",
    "x_array=np.array([series.position[0] for series in series_list])\n",
    "tau_array=np.array([series.tau_mean for series in series_list])*1e6\n",
    "tau_uncertainties=np.array([series.tau_uncertainty for series in series_list])*1e6\n",
    "left_lim,right_lim=min(x_array)-0.01,max(x_array)+0.01\n",
    "plt.errorbar(x_array,tau_array,yerr=tau_uncertainties,fmt='o')\n",
    "plt.xlim(left_lim,right_lim)\n",
    "plt.xlabel(r\"x position (mm)\")\n",
    "plt.ylabel(r\"$\\tau$ in $\\mu$s\")\n",
    "plt.title(r\"Lifetime as a function of Mirrror Position\")\n",
    "plt.savefig(\"Ringdown_Data/Mirrors_1_2_Horizontal_Scan_2/plot.png\")"
   ]
  },
  {
   "cell_type": "code",
   "execution_count": null,
   "metadata": {
    "collapsed": true
   },
   "outputs": [],
   "source": [
    "\n",
    "\n",
    "\n",
    "\n",
    "\n",
    "\n",
    "\n",
    "\n",
    "\n",
    "\n",
    "\n",
    "\n",
    "\n",
    "\n",
    "\n"
   ]
  },
  {
   "cell_type": "code",
   "execution_count": 220,
   "metadata": {
    "collapsed": false
   },
   "outputs": [
    {
     "name": "stdout",
     "output_type": "stream",
     "text": [
      "Connected to Agilent Technologies,DSO1012A,CN50301202,00.04.06 SP05\n",
      "\n",
      "Tau is (2.33 +/- 0.01)us with std 0.07us\n"
     ]
    }
   ],
   "source": [
    "reload(instrument)\n",
    "scope=instrument.AgilentScope(\"/dev/usbtmc0\")\n",
    "tau_mean,tau_uncertainty,series=scope.measure_tau(100)"
   ]
  },
  {
   "cell_type": "code",
   "execution_count": null,
   "metadata": {
    "collapsed": true
   },
   "outputs": [],
   "source": []
  }
 ],
 "metadata": {
  "kernelspec": {
   "display_name": "Python 2",
   "language": "python",
   "name": "python2"
  },
  "language_info": {
   "codemirror_mode": {
    "name": "ipython",
    "version": 2
   },
   "file_extension": ".py",
   "mimetype": "text/x-python",
   "name": "python",
   "nbconvert_exporter": "python",
   "pygments_lexer": "ipython2",
   "version": "2.7.9"
  }
 },
 "nbformat": 4,
 "nbformat_minor": 0
}
